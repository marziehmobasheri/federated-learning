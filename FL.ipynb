{
  "cells": [
    {
      "cell_type": "code",
      "execution_count": 1,
      "metadata": {
        "id": "hP9mVwd7kZlj"
      },
      "outputs": [],
      "source": [
        "batch_size = 4000\n",
        "lr = 0.002\n",
        "num_epoch = 500\n",
        "number_of_features = 17\n",
        "hyper_parameter1=128\n",
        "hyper_parameter2=64\n",
        "hyper_parameter3=32\n",
        "hyper_parameter4=16"
      ]
    },
    {
      "cell_type": "code",
      "execution_count": 2,
      "metadata": {
        "id": "2guf5TCaja57",
        "colab": {
          "base_uri": "https://localhost:8080/"
        },
        "outputId": "ca3e27da-1f8b-4bec-dc38-5c670df95d10"
      },
      "outputs": [
        {
          "output_type": "stream",
          "name": "stdout",
          "text": [
            "Drive already mounted at /content/drive; to attempt to forcibly remount, call drive.mount(\"/content/drive\", force_remount=True).\n"
          ]
        }
      ],
      "source": [
        "from google.colab import drive\n",
        "drive.mount('/content/drive')"
      ]
    },
    {
      "cell_type": "code",
      "execution_count": 3,
      "metadata": {
        "colab": {
          "base_uri": "https://localhost:8080/"
        },
        "id": "FouyRFppdQUm",
        "outputId": "80eb7e32-761d-4a58-8178-c9c909844d2e"
      },
      "outputs": [
        {
          "output_type": "stream",
          "name": "stdout",
          "text": [
            "GPU\n"
          ]
        }
      ],
      "source": [
        "import pandas as pd\n",
        "from matplotlib import pyplot as plt\n",
        "import numpy as np\n",
        "from torch.utils.data.dataset import Dataset\n",
        "from torch.utils.data import random_split, DataLoader\n",
        "import torch\n",
        "from sklearn.preprocessing import LabelEncoder\n",
        "from sklearn import preprocessing\n",
        "import torch.nn as nn\n",
        "import torch.nn.functional as F\n",
        "import torch.optim as opt\n",
        "\n",
        "# GPU OR CPU\n",
        "if torch.cuda.is_available():\n",
        "    device = torch.device(\"cuda:0\")\n",
        "    print(\"GPU\")\n",
        "else:\n",
        "    device = torch.device(\"cpu\")\n",
        "    print(\"CPU\")"
      ]
    },
    {
      "cell_type": "code",
      "execution_count": 4,
      "metadata": {
        "id": "XuLG1Jm3j0ot"
      },
      "outputs": [],
      "source": [
        "class DataSet_Loader(Dataset):\n",
        "\n",
        "    def __init__(self,data_set_path):\n",
        "        df = pd.read_excel(data_set_path)\n",
        "        # print(df.msg_cat.value_counts().sort_values().plot(kind = \"barh\"))\n",
        "        # print(df['msg_cat'].value_counts())\n",
        "\n",
        "        # # preprocceing\n",
        "        df=df[['QTITTRAN','IANUTRAN','IGARTRANCHC','DHTRAN','CIDGRC','TDECOMP','ACAROMDENACKL_CIDADFEMET','ACAROMDENACKL_YCPTEOM','ACAROMDENACKL_NCPTEPOSIPTOM','ACAROMDENACKL_DHSAIOMADF','ACAROMDENACKL_YPLIMSAIOM','ACAROMDENACKL_YVALIOMNSC','ACAROMDENACKL_YOM','ACAROMDENACKL_IPRSQTITREST','ACAROMDENACKL_CIDITF','ACAROMDENACKL_PLIMSAIOM_QMT','INSTRUMENTID','PTRAN_QMT']]\n",
        "        df['CIDGRC']=df['CIDGRC'].astype(\"string\")\n",
        "        df['ACAROMDENACKL_YPLIMSAIOM']=df['ACAROMDENACKL_YPLIMSAIOM'].astype(\"string\")\n",
        "        df['ACAROMDENACKL_YVALIOMNSC']=df['ACAROMDENACKL_YVALIOMNSC'].astype(\"string\")\n",
        "        df['ACAROMDENACKL_YOM']=df['ACAROMDENACKL_YOM'].astype(\"string\")\n",
        "        df['ACAROMDENACKL_CIDITF']=df['ACAROMDENACKL_CIDITF'].astype(\"string\")\n",
        "        df['INSTRUMENTID']=df['INSTRUMENTID'].astype(\"string\")\n",
        "\n",
        "        cols = ['CIDGRC' ,'ACAROMDENACKL_YPLIMSAIOM','ACAROMDENACKL_YVALIOMNSC','ACAROMDENACKL_CIDITF','ACAROMDENACKL_YOM','ACAROMDENACKL_NCPTEPOSIPTOM','ACAROMDENACKL_DHSAIOMADF','INSTRUMENTID']\n",
        "        df[cols] = df[cols].apply(LabelEncoder().fit_transform)\n",
        "\n",
        "        self.data_array = df.values\n",
        "        self.x = self.data_array[:, :17]\n",
        "        self.y = self.data_array[:, 17]\n",
        "\n",
        "        # normalaized data\n",
        "        scaler = preprocessing.StandardScaler().fit(self.x)\n",
        "        self.x = scaler.transform(self.x)\n",
        "\n",
        "        self.x = torch.tensor(self.x).float()\n",
        "        self.y = torch.tensor(self.y).long()\n",
        "\n",
        "    def __len__(self):\n",
        "        return len(self.data_array)\n",
        "\n",
        "    def __getitem__(self, item):\n",
        "        sample = (self.x[item, :], self.y[item])\n",
        "        return sample"
      ]
    },
    {
      "cell_type": "code",
      "execution_count": 5,
      "metadata": {
        "id": "U0dB1jDjj4iO",
        "colab": {
          "base_uri": "https://localhost:8080/"
        },
        "outputId": "c57f3da2-df6d-4f5f-9b8f-5082966fe568"
      },
      "outputs": [
        {
          "output_type": "execute_result",
          "data": {
            "text/plain": [
              "tensor([[-0.3529,  0.0000,  0.0000,  ...,  0.7266, -0.5234,  1.1742],\n",
              "        [-0.3549,  0.0000,  0.0000,  ...,  0.8418, -0.5234,  1.1742],\n",
              "        [-0.3569,  0.0000,  0.0000,  ...,  0.8994, -0.5233,  1.1742],\n",
              "        ...,\n",
              "        [-0.3267,  0.0000,  0.0000,  ...,  0.0931, -0.0911,  0.1338],\n",
              "        [-0.2826,  0.0000,  0.0000,  ..., -0.8284,  0.0839,  1.4028],\n",
              "        [-0.1652,  0.0000,  0.0000,  ...,  1.3025, -0.5103,  1.0713]])"
            ]
          },
          "metadata": {},
          "execution_count": 5
        }
      ],
      "source": [
        "dataset_trades = DataSet_Loader(\"/content/drive/MyDrive/M1.xlsx\")\n",
        "number_of_test = int(len(dataset_trades)*0.3)\n",
        "number_of_train = len(dataset_trades) - int(len(dataset_trades)*0.3)\n",
        "train_trade ,test_trade = random_split(dataset=dataset_trades, lengths=[number_of_train,number_of_test])\n",
        "\n",
        "train_trade_dataloader = DataLoader(dataset=train_trade ,batch_size=batch_size ,shuffle=True)\n",
        "test_trade_dataloader = DataLoader(dataset=test_trade ,batch_size=batch_size ,shuffle=True)\n",
        "dataset_trades.x"
      ]
    },
    {
      "cell_type": "code",
      "execution_count": 6,
      "metadata": {
        "id": "ULX0_dmwlA8O"
      },
      "outputs": [],
      "source": [
        "class Model_Nerual_FL(nn.Module):\n",
        "\n",
        "    def __init__(self):\n",
        "        super(Model_Nerual_FL, self).__init__()\n",
        "\n",
        "        self.layers = nn.Sequential(\n",
        "        nn.Linear(number_of_features, hyper_parameter1),\n",
        "        nn.Tanh(),\n",
        "        nn.Linear(hyper_parameter1, hyper_parameter2),\n",
        "        nn.Tanh(),\n",
        "        nn.Linear(hyper_parameter2, hyper_parameter3),\n",
        "        nn.Sigmoid(),\n",
        "        nn.Linear(hyper_parameter3, hyper_parameter4),\n",
        "        nn.Sigmoid(),\n",
        "        nn.Linear(hyper_parameter4,1)\n",
        "        )\n",
        "\n",
        "    def forward(self,x):\n",
        "        return self.layers(x)"
      ]
    },
    {
      "cell_type": "code",
      "execution_count": 7,
      "metadata": {
        "colab": {
          "base_uri": "https://localhost:8080/"
        },
        "id": "HFWgDkkRmWkb",
        "outputId": "22566566-b904-4f63-e403-03941b7f39aa"
      },
      "outputs": [
        {
          "output_type": "execute_result",
          "data": {
            "text/plain": [
              "Model_Nerual_FL(\n",
              "  (layers): Sequential(\n",
              "    (0): Linear(in_features=17, out_features=128, bias=True)\n",
              "    (1): Tanh()\n",
              "    (2): Linear(in_features=128, out_features=64, bias=True)\n",
              "    (3): Tanh()\n",
              "    (4): Linear(in_features=64, out_features=32, bias=True)\n",
              "    (5): Sigmoid()\n",
              "    (6): Linear(in_features=32, out_features=16, bias=True)\n",
              "    (7): Sigmoid()\n",
              "    (8): Linear(in_features=16, out_features=1, bias=True)\n",
              "  )\n",
              ")"
            ]
          },
          "metadata": {},
          "execution_count": 7
        }
      ],
      "source": [
        "model_Nerual_FL = Model_Nerual_FL().to(device=device)\n",
        "model_Nerual_FL"
      ]
    },
    {
      "cell_type": "code",
      "source": [
        "from sklearn.metrics import classification_report, confusion_matrix\n",
        "import itertools\n",
        "def plot_confusion_matrix(cm, classes,\n",
        "                          normalize=False,\n",
        "                          title='Confusion matrix',\n",
        "                          cmap=plt.cm.Blues):\n",
        "    \"\"\"\n",
        "    This function prints and plots the confusion matrix.\n",
        "    Normalization can be applied by setting `normalize=True`.\n",
        "    \"\"\"\n",
        "    if normalize:\n",
        "        cm = cm.astype('float') / cm.sum(axis=1)[:, np.newaxis]\n",
        "        print(\"Normalized confusion matrix\")\n",
        "    else:\n",
        "        print('Confusion matrix, without normalization')\n",
        "\n",
        "    print(cm)\n",
        "\n",
        "    plt.imshow(cm, interpolation='nearest', cmap=cmap)\n",
        "    plt.title(title)\n",
        "    plt.colorbar()\n",
        "    tick_marks = np.arange(len(classes))\n",
        "    plt.xticks(tick_marks, classes, rotation=45)\n",
        "    plt.yticks(tick_marks, classes)\n",
        "\n",
        "    fmt = '.2f' if normalize else 'd'\n",
        "    thresh = cm.max() / 2.\n",
        "    for i, j in itertools.product(range(cm.shape[0]), range(cm.shape[1])):\n",
        "        plt.text(j, i, format(cm[i, j], fmt),\n",
        "                 horizontalalignment=\"center\",\n",
        "                 color=\"white\" if cm[i, j] > thresh else \"black\")\n",
        "\n",
        "    plt.tight_layout()\n",
        "    plt.ylabel('True label')\n",
        "    plt.xlabel('Predicted label')"
      ],
      "metadata": {
        "id": "LlLBfsl1zGs8"
      },
      "execution_count": 8,
      "outputs": []
    },
    {
      "cell_type": "code",
      "source": [
        "def federated_train(num_epochs, train_msg_cat_dataloader,local_model, optimizer, loss_fn, device):\n",
        "    start = torch.cuda.Event(enable_timing=True)\n",
        "    end = torch.cuda.Event(enable_timing=True)\n",
        "\n",
        "    start.record()\n",
        "\n",
        "    loss_plot = []\n",
        "\n",
        "    for epoch in range(num_epochs+1):\n",
        "        for batch_x, batch_y in train_msg_cat_dataloader:\n",
        "            batch_x = batch_x.to(device)\n",
        "            batch_y = batch_y.to(device)\n",
        "\n",
        "            batch_x, batch_y = batch_x.float(), batch_y.float()\n",
        "\n",
        "            optimizer.zero_grad()\n",
        "            loss = loss_fn(local_model(batch_x),batch_y.reshape((batch_y.shape[0], 1)))\n",
        "            loss.backward()\n",
        "            optimizer.step()\n",
        "\n",
        "        if epoch % 50 == 0:\n",
        "            print(\"Epoch [%d/%d], Loss: %.4f\" % (epoch, num_epochs, loss.item()))\n",
        "            loss_plot.append(loss.item())\n",
        "\n",
        "    end.record()\n",
        "    # Waits for everything to finish running\n",
        "    torch.cuda.synchronize()\n",
        "\n",
        "    execution_time = start.elapsed_time(end) / 1000.0  # Convert to seconds\n",
        "\n",
        "    print(\"Execution Time: %.4f seconds\" % execution_time)\n",
        "\n",
        "    plt.plot(range(len(loss_plot)), np.asarray(loss_plot))\n",
        "    plt.xlabel('Epochs')\n",
        "    plt.ylabel('Loss')\n",
        "    plt.title('Training Loss')\n",
        "    plt.show()\n"
      ],
      "metadata": {
        "id": "boWMUSNV48AU"
      },
      "execution_count": 9,
      "outputs": []
    },
    {
      "cell_type": "code",
      "source": [
        "def federated_learning(num_clients, client_data_loaders, global_model, optimizer, loss_fn, device):\n",
        "    for client_id, client_dataloader in enumerate(client_data_loaders):\n",
        "        local_model = Model_Nerual_FL().to(device)\n",
        "        local_model.load_state_dict(global_model.state_dict())  # Initialize local model with global model parameters\n",
        "        federated_train(num_epoch, client_dataloader, local_model, optimizer, loss_fn, device)\n",
        "        # After training on client data, send the updated model to the server for aggregation\n",
        "        global_model.load_state_dict(local_model.state_dict())  # Update global model with local model's parameters\n"
      ],
      "metadata": {
        "id": "5zaDtQ8-5UtJ"
      },
      "execution_count": 10,
      "outputs": []
    },
    {
      "cell_type": "code",
      "source": [
        "num_clients = 3\n",
        "global_model = Model_Nerual_FL().to(device=device)\n",
        "optimizer = opt.Adam(global_model.parameters(), lr=lr)\n",
        "loss_fn = nn.CrossEntropyLoss()\n",
        "\n",
        "# Assume you have client data loaders for each client\n",
        "client_data_loaders = [\n",
        "                        DataLoader(dataset=train_trade ,batch_size=batch_size ,shuffle=True),\n",
        "                        DataLoader(dataset=train_trade ,batch_size=batch_size ,shuffle=True),\n",
        "                        DataLoader(dataset=train_trade ,batch_size=batch_size ,shuffle=True),\n",
        "\n",
        "                        ]\n",
        "\n",
        "# Run federated learning\n",
        "federated_learning(num_clients, client_data_loaders, global_model, optimizer, loss_fn, device)\n"
      ],
      "metadata": {
        "colab": {
          "base_uri": "https://localhost:8080/",
          "height": 1000
        },
        "id": "EO2Xl1nm53u1",
        "outputId": "62b0ecc5-b761-486c-ef6d-f8d53b8fea46"
      },
      "execution_count": 11,
      "outputs": [
        {
          "output_type": "stream",
          "name": "stdout",
          "text": [
            "Epoch [0/500], Loss: -0.0000\n",
            "Epoch [50/500], Loss: -0.0000\n",
            "Epoch [100/500], Loss: -0.0000\n",
            "Epoch [150/500], Loss: -0.0000\n",
            "Epoch [200/500], Loss: -0.0000\n",
            "Epoch [250/500], Loss: -0.0000\n",
            "Epoch [300/500], Loss: -0.0000\n",
            "Epoch [350/500], Loss: -0.0000\n",
            "Epoch [400/500], Loss: -0.0000\n",
            "Epoch [450/500], Loss: -0.0000\n",
            "Epoch [500/500], Loss: -0.0000\n",
            "Execution Time: 23.3450 seconds\n"
          ]
        },
        {
          "output_type": "display_data",
          "data": {
            "text/plain": [
              "<Figure size 640x480 with 1 Axes>"
            ],
            "image/png": "[encoded data removed]"
          },
          "metadata": {}
        },
        {
          "output_type": "stream",
          "name": "stdout",
          "text": [
            "Epoch [0/500], Loss: -0.0000\n",
            "Epoch [50/500], Loss: -0.0000\n",
            "Epoch [100/500], Loss: -0.0000\n",
            "Epoch [150/500], Loss: -0.0000\n",
            "Epoch [200/500], Loss: -0.0000\n",
            "Epoch [250/500], Loss: -0.0000\n",
            "Epoch [300/500], Loss: -0.0000\n",
            "Epoch [350/500], Loss: -0.0000\n",
            "Epoch [400/500], Loss: -0.0000\n",
            "Epoch [450/500], Loss: -0.0000\n",
            "Epoch [500/500], Loss: -0.0000\n",
            "Execution Time: 19.6728 seconds\n"
          ]
        },
        {
          "output_type": "display_data",
          "data": {
            "text/plain": [
              "<Figure size 640x480 with 1 Axes>"
            ],
            "image/png": "[encoded data removed]"
          },
          "metadata": {}
        },
        {
          "output_type": "stream",
          "name": "stdout",
          "text": [
            "Epoch [0/500], Loss: -0.0000\n",
            "Epoch [50/500], Loss: -0.0000\n",
            "Epoch [100/500], Loss: -0.0000\n",
            "Epoch [150/500], Loss: -0.0000\n",
            "Epoch [200/500], Loss: -0.0000\n",
            "Epoch [250/500], Loss: -0.0000\n",
            "Epoch [300/500], Loss: -0.0000\n",
            "Epoch [350/500], Loss: -0.0000\n",
            "Epoch [400/500], Loss: -0.0000\n",
            "Epoch [450/500], Loss: -0.0000\n",
            "Epoch [500/500], Loss: -0.0000\n",
            "Execution Time: 21.2467 seconds\n"
          ]
        },
        {
          "output_type": "display_data",
          "data": {
            "text/plain": [
              "<Figure size 640x480 with 1 Axes>"
            ],
            "image/png": "[encoded data removed]"
          },
          "metadata": {}
        }
      ]
    },
    {
      "cell_type": "code",
      "source": [
        "\n",
        "y_test, yhat = list(), list()\n",
        "\n",
        "\n",
        "model_Nerual_FL.eval()  # Set the model to evaluation mode\n",
        "total_correct = 0\n",
        "total_samples = 0\n",
        "criterion = nn.CrossEntropyLoss()\n",
        "\n",
        "with torch.no_grad():  # Disable gradient computation for evaluation\n",
        "    for inputs, targets in test_trade_dataloader:\n",
        "        inputs = inputs.to(device).float()\n",
        "        targets = targets.to(device).float()\n",
        "\n",
        "        outputs = global_model(inputs)\n",
        "        loss = criterion(outputs, targets.reshape((targets.shape[0], 1)))\n",
        "        _, predicted = torch.max(outputs, 1)\n",
        "\n",
        "        total_correct += (predicted == targets).sum().item()\n",
        "        total_samples += targets.size(0)\n",
        "\n",
        "        for i in targets.cpu().detach().numpy():\n",
        "            y_test.append(i)\n",
        "        for i in predicted.cpu().detach().numpy():\n",
        "            yhat.append(i)\n",
        "\n",
        "accuracy = total_correct / total_samples\n",
        "print(f'Accuracy: {accuracy:.4f}')\n"
      ],
      "metadata": {
        "id": "87WIshD9z3iP",
        "colab": {
          "base_uri": "https://localhost:8080/"
        },
        "outputId": "d90c6947-a786-4ba0-e4b3-79b4e17193e1"
      },
      "execution_count": 12,
      "outputs": [
        {
          "output_type": "stream",
          "name": "stdout",
          "text": [
            "Accuracy: 0.0000\n"
          ]
        }
      ]
    }
  ],
  "metadata": {
    "colab": {
      "provenance": [],
      "gpuType": "T4"
    },
    "kernelspec": {
      "display_name": "Python 3",
      "name": "python3"
    },
    "language_info": {
      "name": "python"
    },
    "accelerator": "GPU"
  },
  "nbformat": 4,
  "nbformat_minor": 0
}