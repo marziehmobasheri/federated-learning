{
  "cells": [
    {
      "cell_type": "code",
      "execution_count": 1,
      "metadata": {
        "id": "hP9mVwd7kZlj"
      },
      "outputs": [],
      "source": [
        "\n",
        "batch_size = 5000\n",
        "lr = 0.0001\n",
        "num_epoch = 500\n",
        "number_of_features = 17\n",
        "hyper_parameter1=128\n",
        "hyper_parameter2=64\n",
        "hyper_parameter3=32\n",
        "hyper_parameter4=16\n"
      ]
    },
    {
      "cell_type": "code",
      "execution_count": 2,
      "metadata": {
        "id": "2guf5TCaja57",
        "colab": {
          "base_uri": "https://localhost:8080/"
        },
        "outputId": "3451cd3d-e572-453a-e744-55392db0f463"
      },
      "outputs": [
        {
          "output_type": "stream",
          "name": "stdout",
          "text": [
            "Mounted at /content/drive\n"
          ]
        }
      ],
      "source": [
        "from google.colab import drive\n",
        "drive.mount('/content/drive')"
      ]
    },
    {
      "cell_type": "code",
      "execution_count": 3,
      "metadata": {
        "colab": {
          "base_uri": "https://localhost:8080/"
        },
        "id": "FouyRFppdQUm",
        "outputId": "07fc9171-08e8-4990-9819-c1b2dd5b5694"
      },
      "outputs": [
        {
          "output_type": "stream",
          "name": "stdout",
          "text": [
            "GPU\n"
          ]
        }
      ],
      "source": [
        "import pandas as pd\n",
        "from matplotlib import pyplot as plt\n",
        "import numpy as np\n",
        "from torch.utils.data.dataset import Dataset\n",
        "from torch.utils.data import random_split, DataLoader\n",
        "import torch\n",
        "from sklearn.preprocessing import LabelEncoder\n",
        "from sklearn import preprocessing\n",
        "import torch.nn as nn\n",
        "import torch.nn.functional as F\n",
        "import torch.optim as opt\n",
        "\n",
        "# GPU OR CPU\n",
        "if torch.cuda.is_available():\n",
        "    device = torch.device(\"cuda:0\")\n",
        "    print(\"GPU\")\n",
        "else:\n",
        "    device = torch.device(\"cpu\")\n",
        "    print(\"CPU\")"
      ]
    },
    {
      "cell_type": "code",
      "execution_count": 4,
      "metadata": {
        "id": "XuLG1Jm3j0ot"
      },
      "outputs": [],
      "source": [
        "class DataSet_Loader(Dataset):\n",
        "\n",
        "    def __init__(self,data_set_path):\n",
        "        df = pd.read_excel(data_set_path)\n",
        "        # print(df.msg_cat.value_counts().sort_values().plot(kind = \"barh\"))\n",
        "        # print(df['msg_cat'].value_counts())\n",
        "\n",
        "        # # preprocceing\n",
        "        df=df[['QTITTRAN','IANUTRAN','IGARTRANCHC','DHTRAN','CIDGRC','TDECOMP','ACAROMDENACKL_CIDADFEMET','ACAROMDENACKL_YCPTEOM','ACAROMDENACKL_NCPTEPOSIPTOM','ACAROMDENACKL_DHSAIOMADF','ACAROMDENACKL_YPLIMSAIOM','ACAROMDENACKL_YVALIOMNSC','ACAROMDENACKL_YOM','ACAROMDENACKL_IPRSQTITREST','ACAROMDENACKL_CIDITF','ACAROMDENACKL_PLIMSAIOM_QMT','INSTRUMENTID','PTRAN_QMT']]\n",
        "        df['CIDGRC']=df['CIDGRC'].astype(\"string\")\n",
        "        df['ACAROMDENACKL_YPLIMSAIOM']=df['ACAROMDENACKL_YPLIMSAIOM'].astype(\"string\")\n",
        "        df['ACAROMDENACKL_YVALIOMNSC']=df['ACAROMDENACKL_YVALIOMNSC'].astype(\"string\")\n",
        "        df['ACAROMDENACKL_YOM']=df['ACAROMDENACKL_YOM'].astype(\"string\")\n",
        "        df['ACAROMDENACKL_CIDITF']=df['ACAROMDENACKL_CIDITF'].astype(\"string\")\n",
        "        df['INSTRUMENTID']=df['INSTRUMENTID'].astype(\"string\")\n",
        "\n",
        "        cols = ['CIDGRC' ,'ACAROMDENACKL_YPLIMSAIOM','ACAROMDENACKL_YVALIOMNSC','ACAROMDENACKL_CIDITF','ACAROMDENACKL_YOM','ACAROMDENACKL_NCPTEPOSIPTOM','ACAROMDENACKL_DHSAIOMADF','INSTRUMENTID']\n",
        "        df[cols] = df[cols].apply(LabelEncoder().fit_transform)\n",
        "\n",
        "        self.data_array = df.values\n",
        "        self.x = self.data_array[:, :17]\n",
        "        self.y = self.data_array[:, 17]\n",
        "\n",
        "        # normalaized data\n",
        "        # scaler = preprocessing.StandardScaler().fit(self.x)\n",
        "        # self.x = scaler.transform(self.x)\n",
        "\n",
        "        # scaler1 = preprocessing.StandardScaler().fit(self.y)\n",
        "        # self.y = scaler1.transform(self.y)\n",
        "\n",
        "        self.x = torch.FloatTensor(self.x)\n",
        "        self.y = torch.FloatTensor(self.y)\n",
        "\n",
        "    def __len__(self):\n",
        "        return len(self.data_array)\n",
        "\n",
        "    def __getitem__(self, item):\n",
        "        sample = (self.x[item, :], self.y[item])\n",
        "        return sample"
      ]
    },
    {
      "cell_type": "code",
      "execution_count": 5,
      "metadata": {
        "id": "U0dB1jDjj4iO",
        "colab": {
          "base_uri": "https://localhost:8080/"
        },
        "outputId": "8547ee0b-2588-41b8-dd8c-f5b399618065"
      },
      "outputs": [
        {
          "output_type": "execute_result",
          "data": {
            "text/plain": [
              "tensor([[6.0800e+02, 7.0000e+00, 1.0000e+00,  ..., 4.5000e+01, 4.1000e+03,\n",
              "         2.6200e+02],\n",
              "        [5.0000e+02, 7.0000e+00, 1.0000e+00,  ..., 4.7000e+01, 4.0000e+03,\n",
              "         2.6200e+02],\n",
              "        [3.9200e+02, 7.0000e+00, 1.0000e+00,  ..., 4.8000e+01, 4.5000e+03,\n",
              "         2.6200e+02],\n",
              "        ...,\n",
              "        [2.0000e+03, 7.0000e+00, 1.0000e+00,  ..., 3.4000e+01, 1.6400e+06,\n",
              "         1.7100e+02],\n",
              "        [4.3390e+03, 7.0000e+00, 1.0000e+00,  ..., 1.8000e+01, 2.3020e+06,\n",
              "         2.8200e+02],\n",
              "        [1.0575e+04, 7.0000e+00, 1.0000e+00,  ..., 5.5000e+01, 5.3600e+04,\n",
              "         2.5300e+02]])"
            ]
          },
          "metadata": {},
          "execution_count": 5
        }
      ],
      "source": [
        "dataset_trades = DataSet_Loader(\"/content/drive/MyDrive/M1.xlsx\")\n",
        "number_of_test = int(len(dataset_trades)*0.3)\n",
        "number_of_train = len(dataset_trades) - int(len(dataset_trades)*0.3)\n",
        "train_trade ,test_trade = random_split(dataset=dataset_trades, lengths=[number_of_train,number_of_test])\n",
        "\n",
        "train_trade_dataloader = DataLoader(dataset=train_trade ,batch_size=batch_size ,shuffle=True)\n",
        "test_trade_dataloader = DataLoader(dataset=test_trade ,batch_size=batch_size ,shuffle=True)\n",
        "dataset_trades.x"
      ]
    },
    {
      "cell_type": "code",
      "source": [
        "dataset_trades.y"
      ],
      "metadata": {
        "colab": {
          "base_uri": "https://localhost:8080/"
        },
        "id": "o89-HmJXTEhb",
        "outputId": "dea6be1a-47bd-451a-cd65-59d29a5014e2"
      },
      "execution_count": 6,
      "outputs": [
        {
          "output_type": "execute_result",
          "data": {
            "text/plain": [
              "tensor([   3900.,    3900.,    3900.,  ..., 1640000., 2301000.,   53600.])"
            ]
          },
          "metadata": {},
          "execution_count": 6
        }
      ]
    },
    {
      "cell_type": "code",
      "execution_count": 7,
      "metadata": {
        "id": "ULX0_dmwlA8O"
      },
      "outputs": [],
      "source": [
        "class Model_Nerual_FL(nn.Module):\n",
        "\n",
        "    def __init__(self):\n",
        "        super(Model_Nerual_FL, self).__init__()\n",
        "\n",
        "        self.layers = nn.Sequential(\n",
        "        nn.Linear(number_of_features, hyper_parameter1),\n",
        "        nn.ReLU(),\n",
        "        nn.Linear(hyper_parameter1, hyper_parameter2),\n",
        "        nn.ReLU(),\n",
        "        nn.Linear(hyper_parameter2, hyper_parameter3),\n",
        "        nn.ReLU(),\n",
        "        nn.Linear(hyper_parameter3, hyper_parameter4),\n",
        "        nn.ReLU(),\n",
        "        nn.Linear(hyper_parameter4,1)\n",
        "        )\n",
        "\n",
        "    def forward(self,x):\n",
        "        return self.layers(x)"
      ]
    },
    {
      "cell_type": "code",
      "execution_count": 8,
      "metadata": {
        "colab": {
          "base_uri": "https://localhost:8080/"
        },
        "id": "HFWgDkkRmWkb",
        "outputId": "7907c868-bd4e-4f68-dbf5-e55199586694"
      },
      "outputs": [
        {
          "output_type": "execute_result",
          "data": {
            "text/plain": [
              "Model_Nerual_FL(\n",
              "  (layers): Sequential(\n",
              "    (0): Linear(in_features=17, out_features=128, bias=True)\n",
              "    (1): ReLU()\n",
              "    (2): Linear(in_features=128, out_features=64, bias=True)\n",
              "    (3): ReLU()\n",
              "    (4): Linear(in_features=64, out_features=32, bias=True)\n",
              "    (5): ReLU()\n",
              "    (6): Linear(in_features=32, out_features=16, bias=True)\n",
              "    (7): ReLU()\n",
              "    (8): Linear(in_features=16, out_features=1, bias=True)\n",
              "  )\n",
              ")"
            ]
          },
          "metadata": {},
          "execution_count": 8
        }
      ],
      "source": [
        "model_Nerual_FL = Model_Nerual_FL().to(device=device)\n",
        "model_Nerual_FL"
      ]
    },
    {
      "cell_type": "code",
      "source": [
        "global_model = Model_Nerual_FL().to(device=device)\n",
        "optimizer = opt.Adam(global_model.parameters(), lr=lr)\n",
        "loss_fn = nn.MSELoss()"
      ],
      "metadata": {
        "id": "DRzApzdwdEAV"
      },
      "execution_count": 9,
      "outputs": []
    },
    {
      "cell_type": "code",
      "source": [
        "loss_plot = []\n",
        "\n",
        "for epoch in range(num_epoch+1):\n",
        "    for batch_x, batch_y in train_trade_dataloader:\n",
        "        batch_x = batch_x.to(device)\n",
        "        batch_y = batch_y.to(device)\n",
        "\n",
        "        batch_x, batch_y = batch_x.float(), batch_y.float().reshape((batch_y.shape[0], 1))\n",
        "\n",
        "\n",
        "        output = global_model(batch_x)\n",
        "        loss = loss_fn(output,batch_y)\n",
        "\n",
        "        optimizer.zero_grad()\n",
        "        loss.backward()\n",
        "        optimizer.step()\n",
        "\n",
        "    if epoch % 50 == 0:\n",
        "        print(\"Epoch [%d/%d], Loss: %.4f\" % (epoch, num_epoch, loss.item()))\n",
        "        loss_plot.append(loss.item())\n",
        "\n",
        "\n",
        "plt.plot(range(len(loss_plot)), np.asarray(loss_plot))\n",
        "plt.xlabel('Epochs')\n",
        "plt.ylabel('Loss')\n",
        "plt.title('Training Loss')\n",
        "plt.show()"
      ],
      "metadata": {
        "colab": {
          "base_uri": "https://localhost:8080/",
          "height": 663
        },
        "id": "2mFlTrIeckJO",
        "outputId": "162a0151-7342-41a0-ce97-208f377b7012"
      },
      "execution_count": 10,
      "outputs": [
        {
          "output_type": "stream",
          "name": "stdout",
          "text": [
            "Epoch [0/500], Loss: 123361351947723472896.0000\n",
            "Epoch [50/500], Loss: 111461821385420046336.0000\n",
            "Epoch [100/500], Loss: 105604740536443338752.0000\n",
            "Epoch [150/500], Loss: 100554481319928659968.0000\n",
            "Epoch [200/500], Loss: 95702415671390371840.0000\n",
            "Epoch [250/500], Loss: 92108164936748761088.0000\n",
            "Epoch [300/500], Loss: 89004797765397512192.0000\n",
            "Epoch [350/500], Loss: 85994194191058468864.0000\n",
            "Epoch [400/500], Loss: 83073328357731991552.0000\n",
            "Epoch [450/500], Loss: 80232559747465740288.0000\n",
            "Epoch [500/500], Loss: 77476928521561440256.0000\n"
          ]
        },
        {
          "output_type": "display_data",
          "data": {
            "text/plain": [
              "<Figure size 640x480 with 1 Axes>"
            ],
            "image/png": "[encoded data removed]"
          },
          "metadata": {}
        }
      ]
    },
    {
      "cell_type": "code",
      "source": [
        "\n",
        "y_test, yhat = list(), list()\n",
        "\n",
        "\n",
        "model_Nerual_FL.eval()  # Set the model to evaluation mode\n",
        "total_correct = 0\n",
        "total_samples = 0\n",
        "# criterion = nn.BCEWithLogitsLoss()\n",
        "\n",
        "with torch.no_grad():  # Disable gradient computation for evaluation\n",
        "    for inputs, targets in test_trade_dataloader:\n",
        "        inputs = inputs.to(device).float()\n",
        "        targets = targets.to(device).float()\n",
        "\n",
        "        outputs = global_model(inputs)\n",
        "        test_loss = loss_fn(outputs, targets.reshape((targets.shape[0], 1)))\n",
        "        print(f'Test Loss: {test_loss.item():.4f}')\n",
        "        print('-------------------------')"
      ],
      "metadata": {
        "id": "87WIshD9z3iP",
        "colab": {
          "base_uri": "https://localhost:8080/"
        },
        "outputId": "3882dfaa-ed4e-4afc-bcd1-9f20421f9c30"
      },
      "execution_count": 11,
      "outputs": [
        {
          "output_type": "stream",
          "name": "stdout",
          "text": [
            "Test Loss: 77420862224637886464.0000\n",
            "-------------------------\n"
          ]
        }
      ]
    },
    {
      "cell_type": "code",
      "source": [],
      "metadata": {
        "id": "aXTs-pRwZbIV"
      },
      "execution_count": 11,
      "outputs": []
    }
  ],
  "metadata": {
    "colab": {
      "provenance": [],
      "gpuType": "T4"
    },
    "kernelspec": {
      "display_name": "Python 3",
      "name": "python3"
    },
    "language_info": {
      "name": "python"
    },
    "accelerator": "GPU"
  },
  "nbformat": 4,
  "nbformat_minor": 0
}