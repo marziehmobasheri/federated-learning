{
  "cells": [
    {
      "cell_type": "code",
      "execution_count": null,
      "metadata": {
        "id": "hP9mVwd7kZlj"
      },
      "outputs": [],
      "source": [
        "\n",
        "batch_size = 100\n",
        "lr = 0.0001\n",
        "num_epoch = 5000\n",
        "number_of_features = 17\n",
        "hyper_parameter1=128\n",
        "hyper_parameter2=64\n",
        "hyper_parameter3=32\n",
        "hyper_parameter4=16"
      ]
    },
    {
      "cell_type": "code",
      "execution_count": null,
      "metadata": {
        "colab": {
          "base_uri": "https://localhost:8080/"
        },
        "id": "2guf5TCaja57",
        "outputId": "42604aab-0d28-44d3-abc0-8163f0710c63"
      },
      "outputs": [
        {
          "name": "stdout",
          "output_type": "stream",
          "text": [
            "Mounted at /content/drive\n"
          ]
        }
      ],
      "source": [
        "from google.colab import drive\n",
        "drive.mount('/content/drive')"
      ]
    },
    {
      "cell_type": "code",
      "execution_count": null,
      "metadata": {
        "colab": {
          "base_uri": "https://localhost:8080/"
        },
        "id": "FouyRFppdQUm",
        "outputId": "fa0a5c2d-2b41-4b31-e3bd-7d84eb8a8512"
      },
      "outputs": [
        {
          "name": "stdout",
          "output_type": "stream",
          "text": [
            "CPU\n"
          ]
        }
      ],
      "source": [
        "import pandas as pd\n",
        "from matplotlib import pyplot as plt\n",
        "import numpy as np\n",
        "from torch.utils.data.dataset import Dataset\n",
        "from torch.utils.data import random_split, DataLoader\n",
        "import torch\n",
        "from sklearn.preprocessing import LabelEncoder\n",
        "from sklearn import preprocessing\n",
        "import torch.nn as nn\n",
        "import torch.nn.functional as F\n",
        "import torch.optim as opt\n",
        "\n",
        "# GPU OR CPU\n",
        "if torch.cuda.is_available():\n",
        "    device = torch.device(\"cuda:0\")\n",
        "    print(\"GPU\")\n",
        "else:\n",
        "    device = torch.device(\"cpu\")\n",
        "    print(\"CPU\")"
      ]
    },
    {
      "cell_type": "code",
      "execution_count": null,
      "metadata": {
        "id": "XuLG1Jm3j0ot"
      },
      "outputs": [],
      "source": [
        "class DataSet_Loader(Dataset):\n",
        "\n",
        "    def __init__(self,data_set_path):\n",
        "        df = pd.read_excel(data_set_path)\n",
        "        # print(df.msg_cat.value_counts().sort_values().plot(kind = \"barh\"))\n",
        "        # print(df['msg_cat'].value_counts())\n",
        "\n",
        "        # # preprocceing\n",
        "        df=df[['QTITTRAN','IANUTRAN','IGARTRANCHC','DHTRAN','CIDGRC','TDECOMP','ACAROMDENACKL_CIDADFEMET','ACAROMDENACKL_YCPTEOM','ACAROMDENACKL_NCPTEPOSIPTOM','ACAROMDENACKL_DHSAIOMADF','ACAROMDENACKL_YPLIMSAIOM','ACAROMDENACKL_YVALIOMNSC','ACAROMDENACKL_YOM','ACAROMDENACKL_IPRSQTITREST','ACAROMDENACKL_CIDITF','ACAROMDENACKL_PLIMSAIOM_QMT','INSTRUMENTID','PTRAN_QMT']]\n",
        "        df['CIDGRC']=df['CIDGRC'].astype(\"string\")\n",
        "        df['ACAROMDENACKL_YPLIMSAIOM']=df['ACAROMDENACKL_YPLIMSAIOM'].astype(\"string\")\n",
        "        df['ACAROMDENACKL_YVALIOMNSC']=df['ACAROMDENACKL_YVALIOMNSC'].astype(\"string\")\n",
        "        df['ACAROMDENACKL_YOM']=df['ACAROMDENACKL_YOM'].astype(\"string\")\n",
        "        df['ACAROMDENACKL_CIDITF']=df['ACAROMDENACKL_CIDITF'].astype(\"string\")\n",
        "        df['INSTRUMENTID']=df['INSTRUMENTID'].astype(\"string\")\n",
        "\n",
        "        cols = ['CIDGRC' ,'ACAROMDENACKL_YPLIMSAIOM','ACAROMDENACKL_YVALIOMNSC','ACAROMDENACKL_CIDITF','ACAROMDENACKL_YOM','ACAROMDENACKL_NCPTEPOSIPTOM','ACAROMDENACKL_DHSAIOMADF','INSTRUMENTID']\n",
        "        df[cols] = df[cols].apply(LabelEncoder().fit_transform)\n",
        "\n",
        "        self.data_array = df.values\n",
        "        self.x = self.data_array[:, :17]\n",
        "        self.y = self.data_array[:, 17]\n",
        "\n",
        "        # normalaized data\n",
        "        # scaler = preprocessing.StandardScaler().fit(self.x)\n",
        "        # self.x = scaler.transform(self.x)\n",
        "\n",
        "        # scaler1 = preprocessing.StandardScaler().fit(self.y)\n",
        "        # self.y = scaler1.transform(self.y)\n",
        "\n",
        "        self.x = torch.FloatTensor(self.x)\n",
        "        self.y = torch.FloatTensor(self.y)\n",
        "\n",
        "    def __len__(self):\n",
        "        return len(self.data_array)\n",
        "\n",
        "    def __getitem__(self, item):\n",
        "        sample = (self.x[item, :], self.y[item])\n",
        "        return sample"
      ]
    },
    {
      "cell_type": "code",
      "execution_count": null,
      "metadata": {
        "colab": {
          "base_uri": "https://localhost:8080/"
        },
        "id": "U0dB1jDjj4iO",
        "outputId": "a1399a96-80a5-4c81-97ca-3b40b296d5ae"
      },
      "outputs": [
        {
          "data": {
            "text/plain": [
              "tensor([[6.0800e+02, 7.0000e+00, 1.0000e+00,  ..., 4.5000e+01, 4.1000e+03,\n",
              "         2.6200e+02],\n",
              "        [5.0000e+02, 7.0000e+00, 1.0000e+00,  ..., 4.7000e+01, 4.0000e+03,\n",
              "         2.6200e+02],\n",
              "        [3.9200e+02, 7.0000e+00, 1.0000e+00,  ..., 4.8000e+01, 4.5000e+03,\n",
              "         2.6200e+02],\n",
              "        ...,\n",
              "        [2.0000e+03, 7.0000e+00, 1.0000e+00,  ..., 3.4000e+01, 1.6400e+06,\n",
              "         1.7100e+02],\n",
              "        [4.3390e+03, 7.0000e+00, 1.0000e+00,  ..., 1.8000e+01, 2.3020e+06,\n",
              "         2.8200e+02],\n",
              "        [1.0575e+04, 7.0000e+00, 1.0000e+00,  ..., 5.5000e+01, 5.3600e+04,\n",
              "         2.5300e+02]])"
            ]
          },
          "execution_count": 5,
          "metadata": {},
          "output_type": "execute_result"
        }
      ],
      "source": [
        "dataset_trades = DataSet_Loader(\"/content/drive/MyDrive/M1.xlsx\")\n",
        "number_of_test = int(len(dataset_trades)*0.3)\n",
        "number_of_train = len(dataset_trades) - int(len(dataset_trades)*0.3)\n",
        "train_trade ,test_trade = random_split(dataset=dataset_trades, lengths=[number_of_train,number_of_test])\n",
        "\n",
        "train_trade_dataloader = DataLoader(dataset=train_trade ,batch_size=batch_size ,shuffle=True)\n",
        "test_trade_dataloader = DataLoader(dataset=test_trade ,batch_size=batch_size ,shuffle=True)\n",
        "dataset_trades.x"
      ]
    },
    {
      "cell_type": "code",
      "execution_count": null,
      "metadata": {
        "colab": {
          "base_uri": "https://localhost:8080/"
        },
        "id": "o89-HmJXTEhb",
        "outputId": "073dc339-3a30-4d2b-f91c-a7f4b27eadf4"
      },
      "outputs": [
        {
          "data": {
            "text/plain": [
              "tensor([   3900.,    3900.,    3900.,  ..., 1640000., 2301000.,   53600.])"
            ]
          },
          "execution_count": 6,
          "metadata": {},
          "output_type": "execute_result"
        }
      ],
      "source": [
        "dataset_trades.y"
      ]
    },
    {
      "cell_type": "code",
      "execution_count": null,
      "metadata": {
        "id": "ULX0_dmwlA8O"
      },
      "outputs": [],
      "source": [
        "class Model_Nerual_FL(nn.Module):\n",
        "\n",
        "    def __init__(self):\n",
        "        super(Model_Nerual_FL, self).__init__()\n",
        "\n",
        "        self.layers = nn.Sequential(\n",
        "        nn.Linear(number_of_features, hyper_parameter1),\n",
        "        nn.ReLU(),\n",
        "        nn.Linear(hyper_parameter1, hyper_parameter2),\n",
        "        nn.ReLU(),\n",
        "        nn.Linear(hyper_parameter2, hyper_parameter3),\n",
        "        nn.ReLU(),\n",
        "        nn.Linear(hyper_parameter3, hyper_parameter4),\n",
        "        nn.ReLU(),\n",
        "        nn.Linear(hyper_parameter4,1)\n",
        "        )\n",
        "\n",
        "    def forward(self,x):\n",
        "        return self.layers(x)"
      ]
    },
    {
      "cell_type": "code",
      "execution_count": null,
      "metadata": {
        "colab": {
          "base_uri": "https://localhost:8080/"
        },
        "id": "HFWgDkkRmWkb",
        "outputId": "94916f4f-bc39-44fa-9c0c-2cb996ab2ec3"
      },
      "outputs": [
        {
          "data": {
            "text/plain": [
              "Model_Nerual_FL(\n",
              "  (layers): Sequential(\n",
              "    (0): Linear(in_features=17, out_features=128, bias=True)\n",
              "    (1): ReLU()\n",
              "    (2): Linear(in_features=128, out_features=64, bias=True)\n",
              "    (3): ReLU()\n",
              "    (4): Linear(in_features=64, out_features=32, bias=True)\n",
              "    (5): ReLU()\n",
              "    (6): Linear(in_features=32, out_features=16, bias=True)\n",
              "    (7): ReLU()\n",
              "    (8): Linear(in_features=16, out_features=1, bias=True)\n",
              "  )\n",
              ")"
            ]
          },
          "execution_count": 8,
          "metadata": {},
          "output_type": "execute_result"
        }
      ],
      "source": [
        "model_Nerual_FL = Model_Nerual_FL().to(device=device)\n",
        "model_Nerual_FL"
      ]
    },
    {
      "cell_type": "code",
      "execution_count": null,
      "metadata": {
        "id": "DRzApzdwdEAV"
      },
      "outputs": [],
      "source": [
        "global_model = Model_Nerual_FL().to(device=device)\n",
        "optimizer = opt.Adam(global_model.parameters(), lr=lr)\n",
        "loss_fn = nn.MSELoss()"
      ]
    },
    {
      "cell_type": "code",
      "execution_count": null,
      "metadata": {
        "colab": {
          "background_save": true,
          "base_uri": "https://localhost:8080/"
        },
        "id": "2mFlTrIeckJO",
        "outputId": "6016619b-5f0f-415e-b309-b1def144a3e7"
      },
      "outputs": [
        {
          "name": "stdout",
          "output_type": "stream",
          "text": [
            "Epoch [0/5000], Loss: 25863785350420804665344.0000\n",
            "Epoch [50/5000], Loss: 25836455256082106810368.0000\n",
            "Epoch [100/5000], Loss: 25834210211667862618112.0000\n",
            "Epoch [150/5000], Loss: 25832235383231260655616.0000\n",
            "Epoch [200/5000], Loss: 25829630050846826823680.0000\n",
            "Epoch [250/5000], Loss: 25827808344797555458048.0000\n",
            "Epoch [300/5000], Loss: 25825538530585360728064.0000\n",
            "Epoch [350/5000], Loss: 25823372299164595519488.0000\n",
            "Epoch [400/5000], Loss: 25821311902335073517568.0000\n",
            "Epoch [450/5000], Loss: 25818774123945050243072.0000\n",
            "Epoch [500/5000], Loss: 25816718230715155611648.0000\n",
            "Epoch [550/5000], Loss: 25814558754693831458816.0000\n",
            "Epoch [600/5000], Loss: 25812142573493747187712.0000\n",
            "Epoch [650/5000], Loss: 25810343385442612674560.0000\n",
            "Epoch [700/5000], Loss: 25808019528034889498624.0000\n",
            "Epoch [750/5000], Loss: 25805970390204435922944.0000\n",
            "Epoch [800/5000], Loss: 25803626266598389579776.0000\n",
            "Epoch [850/5000], Loss: 25801559114369426522112.0000\n",
            "Epoch [900/5000], Loss: 25799406393747543425024.0000\n",
            "Epoch [950/5000], Loss: 25797213140729013993472.0000\n",
            "Epoch [1000/5000], Loss: 25795026643109925617664.0000\n",
            "Epoch [1050/5000], Loss: 25792963994480589930496.0000\n",
            "Epoch [1100/5000], Loss: 25790849554455539482624.0000\n",
            "Epoch [1150/5000], Loss: 25788419862456573100032.0000\n",
            "Epoch [1200/5000], Loss: 25786397746223883747328.0000\n",
            "Epoch [1250/5000], Loss: 25784116673012620591104.0000\n",
            "Epoch [1300/5000], Loss: 25781972959589992235008.0000\n",
            "Epoch [1350/5000], Loss: 25779829246167363878912.0000\n",
            "Epoch [1400/5000], Loss: 25777552676555728093184.0000\n",
            "Epoch [1450/5000], Loss: 25775246833546514399232.0000\n",
            "Epoch [1500/5000], Loss: 25773294523108049289216.0000\n",
            "Epoch [1550/5000], Loss: 25771053982293432467456.0000\n",
            "Epoch [1600/5000], Loss: 25768869736474157776896.0000\n",
            "Epoch [1650/5000], Loss: 25766671979856000974848.0000\n",
            "Epoch [1700/5000], Loss: 25764444949840266264576.0000\n",
            "Epoch [1750/5000], Loss: 25762287725618755796992.0000\n",
            "Epoch [1800/5000], Loss: 25760135004996872699904.0000\n",
            "Epoch [1850/5000], Loss: 25757937248378715897856.0000\n",
            "Epoch [1900/5000], Loss: 25755777772357391745024.0000\n",
            "Epoch [1950/5000], Loss: 25753557497741098090496.0000\n",
            "Epoch [2000/5000], Loss: 25751481338312880291840.0000\n",
            "Epoch [2050/5000], Loss: 25749281329894909804544.0000\n",
            "Epoch [2100/5000], Loss: 25747036285480665612288.0000\n",
            "Epoch [2150/5000], Loss: 25744854291461204606976.0000\n",
            "Epoch [2200/5000], Loss: 25742688060040439398400.0000\n",
            "Epoch [2250/5000], Loss: 25740526332219301560320.0000\n",
            "Epoch [2300/5000], Loss: 25738333079200772128768.0000\n",
            "Epoch [2350/5000], Loss: 25736155588780938493952.0000\n",
            "Epoch [2400/5000], Loss: 25733973594761477488640.0000\n",
            "Epoch [2450/5000], Loss: 25731775838143320686592.0000\n",
            "Epoch [2500/5000], Loss: 25729593844123859681280.0000\n",
            "Epoch [2550/5000], Loss: 25727418605503839731712.0000\n",
            "Epoch [2600/5000], Loss: 25725243366883819782144.0000\n",
            "Epoch [2650/5000], Loss: 25723061372864358776832.0000\n",
            "Epoch [2700/5000], Loss: 25720861364446388289536.0000\n",
            "Epoch [2750/5000], Loss: 25718695133025623080960.0000\n",
            "Epoch [2800/5000], Loss: 25716535657004298928128.0000\n",
            "Epoch [2850/5000], Loss: 25714310878788377903104.0000\n",
            "Epoch [2900/5000], Loss: 25712155906366681120768.0000\n",
            "Epoch [2950/5000], Loss: 25709926624551132725248.0000\n",
            "Epoch [3000/5000], Loss: 25707764896729994887168.0000\n",
            "Epoch [3050/5000], Loss: 25705663967503826550784.0000\n",
            "Epoch [3100/5000], Loss: 25703527009480639250432.0000\n",
            "Epoch [3150/5000], Loss: 25701257195268444520448.0000\n",
            "Epoch [3200/5000], Loss: 25699093215647492997120.0000\n",
            "Epoch [3250/5000], Loss: 25696931487826355159040.0000\n",
            "Epoch [3300/5000], Loss: 25694702206010806763520.0000\n",
            "Epoch [3350/5000], Loss: 25692488686793954164736.0000\n",
            "Epoch [3400/5000], Loss: 25690426038164618477568.0000\n",
            "Epoch [3450/5000], Loss: 25688257554944039583744.0000\n",
            "Epoch [3500/5000], Loss: 25685976481732776427520.0000\n",
            "Epoch [3550/5000], Loss: 25683722430119277494272.0000\n",
            "Epoch [3600/5000], Loss: 25681632759892177584128.0000\n",
            "Epoch [3650/5000], Loss: 25679376456478864965632.0000\n",
            "Epoch [3700/5000], Loss: 25677340829447293501440.0000\n",
            "Epoch [3750/5000], Loss: 25675014720239756640256.0000\n",
            "Epoch [3800/5000], Loss: 25672902532014519877632.0000\n",
            "Epoch [3850/5000], Loss: 25670767825791146262528.0000\n",
            "Epoch [3900/5000], Loss: 25668547551174852608000.0000\n",
            "Epoch [3950/5000], Loss: 25666027787183338815488.0000\n",
            "Epoch [4000/5000], Loss: 25664037196148041056256.0000\n",
            "Epoch [4050/5000], Loss: 25662109655507526483968.0000\n",
            "Epoch [4100/5000], Loss: 25659772287300921196544.0000\n",
            "Epoch [4150/5000], Loss: 25657700631472330768384.0000\n",
            "Epoch [4200/5000], Loss: 25655689774238709841920.0000\n",
            "Epoch [4250/5000], Loss: 25653325384434340331520.0000\n",
            "Epoch [4300/5000], Loss: 25651177167412084604928.0000\n",
            "Epoch [4350/5000], Loss: 25649175317377718419456.0000\n",
            "Epoch [4400/5000], Loss: 25646696085782850961408.0000\n",
            "Epoch [4450/5000], Loss: 25644552372360222605312.0000\n",
            "Epoch [4500/5000], Loss: 25642442435934799527936.0000\n",
            "Epoch [4550/5000], Loss: 25640307729711425912832.0000\n",
            "Epoch [4600/5000], Loss: 25637835253515999510528.0000\n",
            "Epoch [4650/5000], Loss: 25636110374858716610560.0000\n",
            "Epoch [4700/5000], Loss: 25633739229654906044416.0000\n",
            "Epoch [4750/5000], Loss: 25631782415616813563904.0000\n",
            "Epoch [4800/5000], Loss: 25629391004214679830528.0000\n",
            "Epoch [4850/5000], Loss: 25627130197201739841536.0000\n",
            "Epoch [4900/5000], Loss: 25625065296772590469120.0000\n",
            "Epoch [4950/5000], Loss: 25623153518730771693568.0000\n",
            "Epoch [5000/5000], Loss: 25620100078183414497280.0000\n"
          ]
        },
        {
          "data": {
            "image/png": "[encoded data removed]",
            "text/plain": [
              "<Figure size 640x480 with 1 Axes>"
            ]
          },
          "metadata": {},
          "output_type": "display_data"
        }
      ],
      "source": [
        "loss_plot = []\n",
        "\n",
        "for epoch in range(num_epoch+1):\n",
        "    for batch_x, batch_y in train_trade_dataloader:\n",
        "        batch_x = batch_x.to(device)\n",
        "        batch_y = batch_y.to(device)\n",
        "\n",
        "        batch_x, batch_y = batch_x.float(), batch_y.float().reshape((batch_y.shape[0], 1))\n",
        "\n",
        "\n",
        "        output = global_model(batch_x)\n",
        "        loss = loss_fn(output,batch_y)\n",
        "\n",
        "        optimizer.zero_grad()\n",
        "        loss.backward()\n",
        "        optimizer.step()\n",
        "\n",
        "    if epoch % 50 == 0:\n",
        "        print(\"Epoch [%d/%d], Loss: %.4f\" % (epoch, num_epoch, loss.item()))\n",
        "        loss_plot.append(loss.item())\n",
        "\n",
        "\n",
        "plt.plot(range(len(loss_plot)), np.asarray(loss_plot))\n",
        "plt.xlabel('Epochs')\n",
        "plt.ylabel('Loss')\n",
        "plt.title('Training Loss')\n",
        "plt.show()"
      ]
    },
    {
      "cell_type": "code",
      "execution_count": null,
      "metadata": {
        "colab": {
          "background_save": true
        },
        "id": "87WIshD9z3iP",
        "outputId": "16a106ad-1065-4122-80a5-785a26f45326"
      },
      "outputs": [
        {
          "name": "stdout",
          "output_type": "stream",
          "text": [
            "Test Loss: 25620507653949691527168.0000\n",
            "-------------------------\n",
            "Test Loss: 25620807143324911665152.0000\n",
            "-------------------------\n",
            "Test Loss: 25620764359128451645440.0000\n",
            "-------------------------\n",
            "Test Loss: 25620590970542797881344.0000\n",
            "-------------------------\n",
            "Test Loss: 25620575207944102084608.0000\n",
            "-------------------------\n",
            "Test Loss: 25620744092930128478208.0000\n",
            "-------------------------\n",
            "Test Loss: 25620786877126588497920.0000\n",
            "-------------------------\n",
            "Test Loss: 25620836416722489573376.0000\n",
            "-------------------------\n",
            "Test Loss: 25620651769137767383040.0000\n",
            "-------------------------\n",
            "Test Loss: 25620728330331432681472.0000\n",
            "-------------------------\n",
            "Test Loss: 25620667531736463179776.0000\n",
            "-------------------------\n",
            "Test Loss: 25620503150350064156672.0000\n",
            "-------------------------\n",
            "Test Loss: 25619838869405027008512.0000\n",
            "-------------------------\n"
          ]
        }
      ],
      "source": [
        "\n",
        "y_test, yhat = list(), list()\n",
        "\n",
        "\n",
        "model_Nerual_FL.eval()  # Set the model to evaluation mode\n",
        "total_correct = 0\n",
        "total_samples = 0\n",
        "# criterion = nn.BCEWithLogitsLoss()\n",
        "\n",
        "with torch.no_grad():  # Disable gradient computation for evaluation\n",
        "    for inputs, targets in test_trade_dataloader:\n",
        "        inputs = inputs.to(device).float()\n",
        "        targets = targets.to(device).float()\n",
        "\n",
        "        outputs = global_model(inputs)\n",
        "        test_loss = loss_fn(outputs, targets.reshape((targets.shape[0], 1)))\n",
        "        print(f'Test Loss: {test_loss.item():.4f}')\n",
        "        print('-------------------------')"
      ]
    },
    {
      "cell_type": "code",
      "execution_count": null,
      "metadata": {
        "colab": {
          "background_save": true
        },
        "id": "aXTs-pRwZbIV",
        "outputId": "71a271dc-c1e1-429a-eda2-8f3d986ca485"
      },
      "outputs": [
        {
          "name": "stdout",
          "output_type": "stream",
          "text": [
            "score : 1.000\n",
            "[-9.14477491e-03  1.83665592e-06  1.00087050e-10  4.45568499e+01\n",
            "  2.03936409e+03  5.42428324e-11  1.86557068e+00  1.83795029e+02\n",
            "  4.31143972e-01  1.14014703e+01  1.13686838e-12 -1.85247468e+03\n",
            " -1.17491565e+04 -2.38345715e+03  1.43358735e+02  9.96213932e-01\n",
            " -1.21933702e+01]\n",
            "intercept : -901848736153406.500\n",
            "[[    608       7       1 ...      45    4100     262]\n",
            " [    500       7       1 ...      47    4000     262]\n",
            " [    392       7       1 ...      48    4500     262]\n",
            " ...\n",
            " [   2000       7       1 ...      34 1640000     171]\n",
            " [   4339       7       1 ...      18 2302000     282]\n",
            " [  10575       7       1 ...      55   53600     253]]\n",
            "[[   3900]\n",
            " [   3900]\n",
            " [   3900]\n",
            " ...\n",
            " [1640000]\n",
            " [2301000]\n",
            " [  53600]]\n",
            "r2 score : 1.00\n"
          ]
        },
        {
          "data": {
            "text/plain": [
              "4011009904.6473484"
            ]
          },
          "execution_count": 12,
          "metadata": {},
          "output_type": "execute_result"
        }
      ],
      "source": [
        "import numpy as np\n",
        "import pandas as pd\n",
        "import matplotlib.pyplot as plt\n",
        "from sklearn.linear_model import LinearRegression\n",
        "from sklearn.metrics import r2_score\n",
        "\n",
        "\n",
        "df = pd.read_excel(\"/content/drive/MyDrive/M1.xlsx\")\n",
        "\n",
        "msk = np.random.rand(len(df)) < 0.8\n",
        "train = df[msk]\n",
        "test = df[~msk]\n",
        "\n",
        "df=df[['QTITTRAN','IANUTRAN','IGARTRANCHC','DHTRAN','CIDGRC','TDECOMP','ACAROMDENACKL_CIDADFEMET','ACAROMDENACKL_YCPTEOM','ACAROMDENACKL_NCPTEPOSIPTOM','ACAROMDENACKL_DHSAIOMADF','ACAROMDENACKL_YPLIMSAIOM','ACAROMDENACKL_YVALIOMNSC','ACAROMDENACKL_YOM','ACAROMDENACKL_IPRSQTITREST','ACAROMDENACKL_CIDITF','ACAROMDENACKL_PLIMSAIOM_QMT','INSTRUMENTID','PTRAN_QMT']]\n",
        "df['CIDGRC']=df['CIDGRC'].astype(\"string\")\n",
        "df['ACAROMDENACKL_YPLIMSAIOM']=df['ACAROMDENACKL_YPLIMSAIOM'].astype(\"string\")\n",
        "df['ACAROMDENACKL_YVALIOMNSC']=df['ACAROMDENACKL_YVALIOMNSC'].astype(\"string\")\n",
        "df['ACAROMDENACKL_YOM']=df['ACAROMDENACKL_YOM'].astype(\"string\")\n",
        "df['ACAROMDENACKL_CIDITF']=df['ACAROMDENACKL_CIDITF'].astype(\"string\")\n",
        "df['INSTRUMENTID']=df['INSTRUMENTID'].astype(\"string\")\n",
        "\n",
        "cols = ['CIDGRC' ,'ACAROMDENACKL_YPLIMSAIOM','ACAROMDENACKL_YVALIOMNSC','ACAROMDENACKL_CIDITF','ACAROMDENACKL_YOM','ACAROMDENACKL_NCPTEPOSIPTOM','ACAROMDENACKL_DHSAIOMADF','INSTRUMENTID']\n",
        "df[cols] = df[cols].apply(LabelEncoder().fit_transform)\n",
        "\n",
        "train_x = np.array(df[['QTITTRAN','IANUTRAN','IGARTRANCHC','DHTRAN','CIDGRC','TDECOMP','ACAROMDENACKL_CIDADFEMET','ACAROMDENACKL_YCPTEOM','ACAROMDENACKL_NCPTEPOSIPTOM','ACAROMDENACKL_DHSAIOMADF','ACAROMDENACKL_YPLIMSAIOM','ACAROMDENACKL_YVALIOMNSC','ACAROMDENACKL_YOM','ACAROMDENACKL_IPRSQTITREST','ACAROMDENACKL_CIDITF','ACAROMDENACKL_PLIMSAIOM_QMT','INSTRUMENTID']])\n",
        "train_y = np.array(df[['PTRAN_QMT']])\n",
        "reg = LinearRegression().fit(train_x, train_y)\n",
        "print(\"score : %.3f\" % reg.score(train_x, train_y))\n",
        "print(reg.coef_[0])\n",
        "print(\"intercept : %.3f\" % reg.intercept_[0])\n",
        "print(train_x)\n",
        "print(train_y)\n",
        "\n",
        "#----------------------------------------------------------------\n",
        "test_x = np.array(df[['QTITTRAN','IANUTRAN','IGARTRANCHC','DHTRAN','CIDGRC','TDECOMP','ACAROMDENACKL_CIDADFEMET','ACAROMDENACKL_YCPTEOM','ACAROMDENACKL_NCPTEPOSIPTOM','ACAROMDENACKL_DHSAIOMADF','ACAROMDENACKL_YPLIMSAIOM','ACAROMDENACKL_YVALIOMNSC','ACAROMDENACKL_YOM','ACAROMDENACKL_IPRSQTITREST','ACAROMDENACKL_CIDITF','ACAROMDENACKL_PLIMSAIOM_QMT','INSTRUMENTID']])\n",
        "test_y = np.array(df[['PTRAN_QMT']])\n",
        "test_y_ = reg.predict(test_x)\n",
        "print(\"r2 score : %.2f\" % (r2_score(test_y,test_y_)))\n",
        "\n",
        "\n",
        "from sklearn.metrics import mean_squared_error\n",
        "\n",
        "mean_squared_error(test_y, test_y_)"
      ]
    }
  ],
  "metadata": {
    "accelerator": "GPU",
    "colab": {
      "gpuType": "T4",
      "provenance": []
    },
    "kernelspec": {
      "display_name": "Python 3",
      "name": "python3"
    },
    "language_info": {
      "name": "python"
    }
  },
  "nbformat": 4,
  "nbformat_minor": 0
}